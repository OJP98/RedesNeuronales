{
 "cells": [
  {
   "cell_type": "markdown",
   "metadata": {},
   "source": [
    "# Laboratorio #2: Redes Neuronales\n",
    "\n",
    "Oscar Juárez - 17315\n",
    "\n",
    "Inteligencia Artificial\n",
    "\n",
    "Fecha: 06/04/2020"
   ]
  },
  {
   "cell_type": "markdown",
   "metadata": {},
   "source": [
    "## Importar librerías útiles"
   ]
  },
  {
   "cell_type": "code",
   "execution_count": 1,
   "metadata": {},
   "outputs": [],
   "source": [
    "# Librerías externas\n",
    "import numpy as np\n",
    "import pandas as pd\n",
    "import pickle\n",
    "import random\n",
    "from functools import reduce\n",
    "from scipy import optimize as op\n",
    "import matplotlib.pyplot as plt\n",
    "\n",
    "# Librerías locales\n",
    "from fns_redes_neuronales import *"
   ]
  },
  {
   "cell_type": "markdown",
   "metadata": {},
   "source": [
    "# 1. Lectura de datasets y definición de datos a utilizar"
   ]
  },
  {
   "cell_type": "code",
   "execution_count": 2,
   "metadata": {},
   "outputs": [],
   "source": [
    "trainSet = pd.read_csv('data/fashion-mnist_train.csv')\n",
    "testSet = pd.read_csv('data/fashion-mnist_test.csv')"
   ]
  },
  {
   "cell_type": "code",
   "execution_count": 3,
   "metadata": {},
   "outputs": [],
   "source": [
    "NROWS = len(trainSet)\n",
    "TRAIN_ROWS = int(NROWS * 0.6)\n",
    "NCV = int(NROWS * 0.2)\n",
    "random.seed(1234)"
   ]
  },
  {
   "cell_type": "code",
   "execution_count": 4,
   "metadata": {},
   "outputs": [],
   "source": [
    "# Desordenamos nuestros datos\n",
    "data = trainSet.iloc[:, :].values\n",
    "# random.shuffle(data)\n",
    "data = pd.DataFrame(data)\n",
    "\n",
    "# Separamos datos del entrenamiento, cross validation y test.\n",
    "train = data.iloc[:TRAIN_ROWS, :]\n",
    "cv = data.iloc[TRAIN_ROWS : TRAIN_ROWS + NCV, :]\n",
    "test = data.iloc[TRAIN_ROWS + NCV:, :]\n",
    "\n",
    "# Normalizamos los datos a usar, sin la columna de la etiqueta\n",
    "training = train.iloc[:, 1:] / 1000.0\n",
    "\n",
    "# Obtenemos los labels correspondientes en un vector aparte\n",
    "training_labels = train.iloc[:, 0].values\n",
    "training_labels = training_labels.reshape(len(training_labels),1)"
   ]
  },
  {
   "cell_type": "markdown",
   "metadata": {},
   "source": [
    "#### Hacemos vector de respuestas con formato correcto"
   ]
  },
  {
   "cell_type": "code",
   "execution_count": 5,
   "metadata": {},
   "outputs": [
    {
     "name": "stdout",
     "output_type": "stream",
     "text": [
      "[[0 0 1 ... 0 0 0]\n",
      " [0 0 0 ... 0 0 1]\n",
      " [0 0 0 ... 0 0 0]\n",
      " ...\n",
      " [0 0 0 ... 0 0 0]\n",
      " [0 0 0 ... 0 0 0]\n",
      " [1 0 0 ... 0 0 0]]\n"
     ]
    }
   ],
   "source": [
    "temp = np.zeros((len(training_labels),10)).astype(int)\n",
    "\n",
    "for i in range(temp.shape[0]):\n",
    "    pos = training_labels[i]\n",
    "    a = np.zeros(10)\n",
    "    a[pos] = 1\n",
    "    temp[i] = a\n",
    "\n",
    "training_labels = temp\n",
    "print(training_labels)"
   ]
  },
  {
   "cell_type": "markdown",
   "metadata": {},
   "source": [
    "# 2. Definir la red neuronal"
   ]
  },
  {
   "cell_type": "code",
   "execution_count": 6,
   "metadata": {},
   "outputs": [],
   "source": [
    "m,n = training.shape\n",
    "\n",
    "# Arquitectura de la red\n",
    "ARCH = np.array([\n",
    "    n,\n",
    "    130,\n",
    "    10\n",
    "])\n",
    "\n",
    "# Shape del vector de thetas\n",
    "theta_shapes = np.hstack(\n",
    "    (\n",
    "        ARCH[1:].reshape(len(ARCH) - 1, 1),\n",
    "        (ARCH[:-1] + 1).reshape(len(ARCH) - 1, 1)\n",
    "    )\n",
    ")\n",
    "\n",
    "# Se convierte la lista de matrices a una lista\n",
    "flat_thetas = flatten_list_of_arrays(\n",
    "    [np.random.rand(*theta_shape) for theta_shape in theta_shapes]\n",
    ")"
   ]
  },
  {
   "cell_type": "code",
   "execution_count": 7,
   "metadata": {},
   "outputs": [
    {
     "data": {
      "text/plain": [
       "array([0.03429105, 0.98317641, 0.40740801, ..., 0.24585098, 0.37702133,\n",
       "       0.96389113])"
      ]
     },
     "execution_count": 7,
     "metadata": {},
     "output_type": "execute_result"
    }
   ],
   "source": [
    "# Vector de thetas inicial, el módelo aún no está entrenado\n",
    "flat_thetas"
   ]
  },
  {
   "cell_type": "markdown",
   "metadata": {},
   "source": [
    "# 3. Optimizar la función de costo para entrenar al modelo\n",
    "\n",
    "##### IMPORTANTE: Saltar este paso si no se creará el modelo desde 0"
   ]
  },
  {
   "cell_type": "code",
   "execution_count": null,
   "metadata": {},
   "outputs": [],
   "source": [
    "result = op.minimize(\n",
    "    fun = cost_function,\n",
    "    x0 = flat_thetas,\n",
    "    args = (theta_shapes, training, training_labels),\n",
    "    method = 'L-BFGS-B',\n",
    "    jac = back_propagation,\n",
    "    options = {'disp': True, 'maxiter': 3000}\n",
    ")"
   ]
  },
  {
   "cell_type": "markdown",
   "metadata": {},
   "source": [
    "## Guardar thetas optimizadas en un archivo con pickle\n",
    "\n",
    "##### IMPORTANTE: Saltar este paso si el modelo no fue entrenado desde 0"
   ]
  },
  {
   "cell_type": "code",
   "execution_count": null,
   "metadata": {},
   "outputs": [],
   "source": [
    "file = open(\"trained_model.txt\",\"wb\")\n",
    "pickle.dump(result.x, file)\n",
    "file.close()"
   ]
  },
  {
   "cell_type": "markdown",
   "metadata": {},
   "source": [
    "## Extraer thetas optimizadas de modelo previamente entrenado"
   ]
  },
  {
   "cell_type": "code",
   "execution_count": 8,
   "metadata": {},
   "outputs": [],
   "source": [
    "with (open(\"trained_model.txt\", \"rb\")) as openfile:\n",
    "    while True:\n",
    "        try: optimized_thetas = pickle.load(openfile)\n",
    "        except EOFError: break\n",
    "\n",
    "optimized_thetas = np.asarray(optimized_thetas)"
   ]
  },
  {
   "cell_type": "markdown",
   "metadata": {},
   "source": [
    "# 4. Predicción de datos\n",
    "\n",
    "#### Predicción sobre cross validation"
   ]
  },
  {
   "cell_type": "code",
   "execution_count": 9,
   "metadata": {},
   "outputs": [
    {
     "data": {
      "text/plain": [
       "array([[0, 0, 0, ..., 0, 0, 0],\n",
       "       [0, 0, 0, ..., 0, 0, 0],\n",
       "       [0, 0, 0, ..., 0, 0, 0],\n",
       "       ...,\n",
       "       [0, 0, 0, ..., 0, 0, 0],\n",
       "       [0, 1, 0, ..., 0, 0, 0],\n",
       "       [0, 0, 0, ..., 1, 0, 0]])"
      ]
     },
     "execution_count": 9,
     "metadata": {},
     "output_type": "execute_result"
    }
   ],
   "source": [
    "# Se define la data a utilizar de manera correcta\n",
    "cv_data = cv.iloc[:, 1:] / 1000.0\n",
    "\n",
    "# Obtener respuestas por aparte\n",
    "cv_labels = np.asarray(cv.iloc[:, 0])\n",
    "cv_labels = cv_labels.reshape(len(cv_data), 1)\n",
    "cv_labels = (cv_labels == np.array(range(10))).astype(int)\n",
    "\n",
    "cv_labels"
   ]
  },
  {
   "cell_type": "code",
   "execution_count": 10,
   "metadata": {},
   "outputs": [],
   "source": [
    "# Hacer predicción en base a datos\n",
    "Thetas = inflate_matrixes(optimized_thetas, theta_shapes)\n",
    "a = feed_forward(Thetas, cv_data)\n",
    "\n",
    "results = [a[-1], cv_labels]"
   ]
  },
  {
   "cell_type": "markdown",
   "metadata": {},
   "source": [
    "#### Resultados sobre Cross Validation"
   ]
  },
  {
   "cell_type": "code",
   "execution_count": 11,
   "metadata": {},
   "outputs": [
    {
     "name": "stdout",
     "output_type": "stream",
     "text": [
      "\n",
      "TOTAL DE ELEMENTOS: 12000\n",
      "PREDICCIONES ACERTADAS: 10167\n",
      "PREDICCIONES INCORRECTAS: 1833\n",
      "RENDIMIENTO: 84.72%\n",
      "\n"
     ]
    }
   ],
   "source": [
    "correct, incorrect = 0,0\n",
    "\n",
    "for predictions, answers in zip(results[0], results[1]):\n",
    "    pred = np.where(predictions == np.amax(predictions))\n",
    "    ans = np.where(answers == np.amax(answers))\n",
    "    \n",
    "    if pred == ans: correct = correct + 1\n",
    "    else: incorrect = incorrect + 1\n",
    "\n",
    "results_string = \"\"\"\n",
    "TOTAL DE ELEMENTOS: {}\n",
    "PREDICCIONES ACERTADAS: {}\n",
    "PREDICCIONES INCORRECTAS: {}\n",
    "RENDIMIENTO: {}%\n",
    "\"\"\".format(\n",
    "    len(cv_data),\n",
    "    correct,\n",
    "    incorrect,\n",
    "    round(100 * correct/(correct + incorrect), 2)\n",
    ")\n",
    "\n",
    "print(results_string)"
   ]
  }
 ],
 "metadata": {
  "kernelspec": {
   "display_name": "Python 3",
   "language": "python",
   "name": "python3"
  },
  "language_info": {
   "codemirror_mode": {
    "name": "ipython",
    "version": 3
   },
   "file_extension": ".py",
   "mimetype": "text/x-python",
   "name": "python",
   "nbconvert_exporter": "python",
   "pygments_lexer": "ipython3",
   "version": "3.7.2"
  }
 },
 "nbformat": 4,
 "nbformat_minor": 4
}
